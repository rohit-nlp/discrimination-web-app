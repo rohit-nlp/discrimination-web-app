{
 "cells": [
  {
   "cell_type": "code",
   "execution_count": 1,
   "metadata": {},
   "outputs": [],
   "source": [
    "import numpy as np\n",
    "import pandas as pd"
   ]
  },
  {
   "cell_type": "code",
   "execution_count": 22,
   "metadata": {},
   "outputs": [],
   "source": [
    "original = pd.read_csv('Original Datasets/compas-scores-two-years.csv')\n",
    "temporal = pd.read_csv('Original Datasets/COMPAS-Temporal-Order-Table.csv')\n",
    "df = pd.read_csv('../mysite/core/static/df/Categorized_compas-scores-two-years.csv')\n",
    "invalidTemp = pd.read_csv('Original Datasets/COMPAS-Temporal-Order-Table Invalid.csv')"
   ]
  },
  {
   "cell_type": "code",
   "execution_count": 23,
   "metadata": {},
   "outputs": [
    {
     "data": {
      "text/html": [
       "<div>\n",
       "<style scoped>\n",
       "    .dataframe tbody tr th:only-of-type {\n",
       "        vertical-align: middle;\n",
       "    }\n",
       "\n",
       "    .dataframe tbody tr th {\n",
       "        vertical-align: top;\n",
       "    }\n",
       "\n",
       "    .dataframe thead th {\n",
       "        text-align: right;\n",
       "    }\n",
       "</style>\n",
       "<table border=\"1\" class=\"dataframe\">\n",
       "  <thead>\n",
       "    <tr style=\"text-align: right;\">\n",
       "      <th></th>\n",
       "      <th>decile_score[1_4]</th>\n",
       "      <th>decile_score[4_11]</th>\n",
       "      <th>age[18_25]</th>\n",
       "      <th>age[25_31]</th>\n",
       "      <th>age[31_42]</th>\n",
       "      <th>age[42_97]</th>\n",
       "      <th>priors_count[0_1]</th>\n",
       "      <th>priors_count[1_4]</th>\n",
       "      <th>priors_count[4_39]</th>\n",
       "      <th>c_charge_degree[F]</th>\n",
       "      <th>c_charge_degree[M]</th>\n",
       "      <th>race[African_American]</th>\n",
       "      <th>race[Asian]</th>\n",
       "      <th>race[Caucasian]</th>\n",
       "      <th>race[Hispanic]</th>\n",
       "      <th>race[Native_American]</th>\n",
       "      <th>race[Other]</th>\n",
       "      <th>sex[Female]</th>\n",
       "      <th>sex[Male]</th>\n",
       "    </tr>\n",
       "  </thead>\n",
       "  <tbody>\n",
       "    <tr>\n",
       "      <th>0</th>\n",
       "      <td>1</td>\n",
       "      <td>0</td>\n",
       "      <td>0</td>\n",
       "      <td>0</td>\n",
       "      <td>0</td>\n",
       "      <td>1</td>\n",
       "      <td>1</td>\n",
       "      <td>0</td>\n",
       "      <td>0</td>\n",
       "      <td>1</td>\n",
       "      <td>0</td>\n",
       "      <td>0</td>\n",
       "      <td>0</td>\n",
       "      <td>0</td>\n",
       "      <td>0</td>\n",
       "      <td>0</td>\n",
       "      <td>1</td>\n",
       "      <td>0</td>\n",
       "      <td>1</td>\n",
       "    </tr>\n",
       "    <tr>\n",
       "      <th>1</th>\n",
       "      <td>1</td>\n",
       "      <td>0</td>\n",
       "      <td>0</td>\n",
       "      <td>0</td>\n",
       "      <td>1</td>\n",
       "      <td>0</td>\n",
       "      <td>1</td>\n",
       "      <td>0</td>\n",
       "      <td>0</td>\n",
       "      <td>1</td>\n",
       "      <td>0</td>\n",
       "      <td>1</td>\n",
       "      <td>0</td>\n",
       "      <td>0</td>\n",
       "      <td>0</td>\n",
       "      <td>0</td>\n",
       "      <td>0</td>\n",
       "      <td>0</td>\n",
       "      <td>1</td>\n",
       "    </tr>\n",
       "    <tr>\n",
       "      <th>2</th>\n",
       "      <td>0</td>\n",
       "      <td>1</td>\n",
       "      <td>1</td>\n",
       "      <td>0</td>\n",
       "      <td>0</td>\n",
       "      <td>0</td>\n",
       "      <td>0</td>\n",
       "      <td>0</td>\n",
       "      <td>1</td>\n",
       "      <td>1</td>\n",
       "      <td>0</td>\n",
       "      <td>1</td>\n",
       "      <td>0</td>\n",
       "      <td>0</td>\n",
       "      <td>0</td>\n",
       "      <td>0</td>\n",
       "      <td>0</td>\n",
       "      <td>0</td>\n",
       "      <td>1</td>\n",
       "    </tr>\n",
       "    <tr>\n",
       "      <th>3</th>\n",
       "      <td>1</td>\n",
       "      <td>0</td>\n",
       "      <td>0</td>\n",
       "      <td>0</td>\n",
       "      <td>0</td>\n",
       "      <td>1</td>\n",
       "      <td>1</td>\n",
       "      <td>0</td>\n",
       "      <td>0</td>\n",
       "      <td>0</td>\n",
       "      <td>1</td>\n",
       "      <td>0</td>\n",
       "      <td>0</td>\n",
       "      <td>0</td>\n",
       "      <td>0</td>\n",
       "      <td>0</td>\n",
       "      <td>1</td>\n",
       "      <td>0</td>\n",
       "      <td>1</td>\n",
       "    </tr>\n",
       "    <tr>\n",
       "      <th>4</th>\n",
       "      <td>0</td>\n",
       "      <td>1</td>\n",
       "      <td>0</td>\n",
       "      <td>0</td>\n",
       "      <td>1</td>\n",
       "      <td>0</td>\n",
       "      <td>0</td>\n",
       "      <td>0</td>\n",
       "      <td>1</td>\n",
       "      <td>1</td>\n",
       "      <td>0</td>\n",
       "      <td>0</td>\n",
       "      <td>0</td>\n",
       "      <td>1</td>\n",
       "      <td>0</td>\n",
       "      <td>0</td>\n",
       "      <td>0</td>\n",
       "      <td>0</td>\n",
       "      <td>1</td>\n",
       "    </tr>\n",
       "  </tbody>\n",
       "</table>\n",
       "</div>"
      ],
      "text/plain": [
       "   decile_score[1_4]  decile_score[4_11]  age[18_25]  age[25_31]  age[31_42]  \\\n",
       "0                  1                   0           0           0           0   \n",
       "1                  1                   0           0           0           1   \n",
       "2                  0                   1           1           0           0   \n",
       "3                  1                   0           0           0           0   \n",
       "4                  0                   1           0           0           1   \n",
       "\n",
       "   age[42_97]  priors_count[0_1]  priors_count[1_4]  priors_count[4_39]  \\\n",
       "0           1                  1                  0                   0   \n",
       "1           0                  1                  0                   0   \n",
       "2           0                  0                  0                   1   \n",
       "3           1                  1                  0                   0   \n",
       "4           0                  0                  0                   1   \n",
       "\n",
       "   c_charge_degree[F]  c_charge_degree[M]  race[African_American]  \\\n",
       "0                   1                   0                       0   \n",
       "1                   1                   0                       1   \n",
       "2                   1                   0                       1   \n",
       "3                   0                   1                       0   \n",
       "4                   1                   0                       0   \n",
       "\n",
       "   race[Asian]  race[Caucasian]  race[Hispanic]  race[Native_American]  \\\n",
       "0            0                0               0                      0   \n",
       "1            0                0               0                      0   \n",
       "2            0                0               0                      0   \n",
       "3            0                0               0                      0   \n",
       "4            0                1               0                      0   \n",
       "\n",
       "   race[Other]  sex[Female]  sex[Male]  \n",
       "0            1            0          1  \n",
       "1            0            0          1  \n",
       "2            0            0          1  \n",
       "3            1            0          1  \n",
       "4            0            0          1  "
      ]
     },
     "execution_count": 23,
     "metadata": {},
     "output_type": "execute_result"
    }
   ],
   "source": [
    "df.head()"
   ]
  },
  {
   "cell_type": "code",
   "execution_count": 28,
   "metadata": {},
   "outputs": [
    {
     "data": {
      "text/plain": [
       "Index(['age', 'c_charge_degree', 'race', 'sex', 'priors_count',\n",
       "       'decile_score'],\n",
       "      dtype='object')"
      ]
     },
     "execution_count": 28,
     "metadata": {},
     "output_type": "execute_result"
    }
   ],
   "source": [
    "original.columns"
   ]
  },
  {
   "cell_type": "code",
   "execution_count": 16,
   "metadata": {},
   "outputs": [],
   "source": [
    "tempVal = temporal['attribute'].tolist()"
   ]
  },
  {
   "cell_type": "code",
   "execution_count": 17,
   "metadata": {},
   "outputs": [
    {
     "data": {
      "text/plain": [
       "['age', 'c_charge_degree', 'race', 'sex', 'priors_count', 'decile_score']"
      ]
     },
     "execution_count": 17,
     "metadata": {},
     "output_type": "execute_result"
    }
   ],
   "source": [
    "tempVal"
   ]
  },
  {
   "cell_type": "code",
   "execution_count": 10,
   "metadata": {},
   "outputs": [],
   "source": [
    "colDF = df.columns"
   ]
  },
  {
   "cell_type": "code",
   "execution_count": 12,
   "metadata": {},
   "outputs": [],
   "source": [
    "set1 = set(colDF)"
   ]
  },
  {
   "cell_type": "code",
   "execution_count": 18,
   "metadata": {},
   "outputs": [],
   "source": [
    "set2 = set(tempVal)"
   ]
  },
  {
   "cell_type": "code",
   "execution_count": 19,
   "metadata": {},
   "outputs": [
    {
     "data": {
      "text/plain": [
       "{'age', 'c_charge_degree', 'decile_score', 'priors_count', 'race', 'sex'}"
      ]
     },
     "execution_count": 19,
     "metadata": {},
     "output_type": "execute_result"
    }
   ],
   "source": [
    "set2"
   ]
  },
  {
   "cell_type": "code",
   "execution_count": 60,
   "metadata": {},
   "outputs": [
    {
     "data": {
      "text/plain": [
       "2"
      ]
     },
     "execution_count": 60,
     "metadata": {},
     "output_type": "execute_result"
    }
   ],
   "source": [
    "mm = max(invalidTemp['order'])\n",
    "mm"
   ]
  },
  {
   "cell_type": "code",
   "execution_count": 62,
   "metadata": {},
   "outputs": [
    {
     "data": {
      "text/plain": [
       "3"
      ]
     },
     "execution_count": 62,
     "metadata": {},
     "output_type": "execute_result"
    }
   ],
   "source": [
    "invalidTemp[invalidTemp[\"order\"] == mm]"
   ]
  },
  {
   "cell_type": "code",
   "execution_count": 54,
   "metadata": {},
   "outputs": [
    {
     "data": {
      "text/plain": [
       "attribute    decile_score\n",
       "order                   2\n",
       "Name: 1, dtype: object"
      ]
     },
     "execution_count": 54,
     "metadata": {},
     "output_type": "execute_result"
    }
   ],
   "source": [
    "invalidTemp.loc[invalidTemp['order'].idxmax()]"
   ]
  },
  {
   "cell_type": "code",
   "execution_count": 70,
   "metadata": {},
   "outputs": [
    {
     "data": {
      "text/plain": [
       "False"
      ]
     },
     "execution_count": 70,
     "metadata": {},
     "output_type": "execute_result"
    }
   ],
   "source": [
    "temporal[temporal[\"order\"] == max(temporal['order'])].shape[0] > 1"
   ]
  },
  {
   "cell_type": "code",
   "execution_count": null,
   "metadata": {},
   "outputs": [],
   "source": [
    "\n",
    "\n"
   ]
  },
  {
   "cell_type": "code",
   "execution_count": null,
   "metadata": {},
   "outputs": [],
   "source": []
  },
  {
   "cell_type": "code",
   "execution_count": null,
   "metadata": {},
   "outputs": [],
   "source": []
  },
  {
   "cell_type": "code",
   "execution_count": null,
   "metadata": {},
   "outputs": [],
   "source": []
  },
  {
   "cell_type": "code",
   "execution_count": 39,
   "metadata": {},
   "outputs": [
    {
     "data": {
      "text/plain": [
       "Index(['decile_score[1_4]', 'decile_score[4_11]', 'age[18_25]', 'age[25_31]',\n",
       "       'age[31_42]', 'age[42_97]', 'priors_count[0_1]', 'priors_count[1_4]',\n",
       "       'priors_count[4_39]', 'c_charge_degree[F]', 'c_charge_degree[M]',\n",
       "       'race[African_American]', 'race[Asian]', 'race[Caucasian]',\n",
       "       'race[Hispanic]', 'race[Native_American]', 'race[Other]', 'sex[Female]',\n",
       "       'sex[Male]'],\n",
       "      dtype='object')"
      ]
     },
     "execution_count": 39,
     "metadata": {},
     "output_type": "execute_result"
    }
   ],
   "source": [
    "l = df.columns\n",
    "\n",
    "c = [i[:i.find(\"[\")] for i in l]\n",
    "l"
   ]
  },
  {
   "cell_type": "code",
   "execution_count": 34,
   "metadata": {},
   "outputs": [
    {
     "data": {
      "text/plain": [
       "['decile_score',\n",
       " 'decile_score',\n",
       " 'age',\n",
       " 'age',\n",
       " 'age',\n",
       " 'age',\n",
       " 'priors_count',\n",
       " 'priors_count',\n",
       " 'priors_count',\n",
       " 'c_charge_degree',\n",
       " 'c_charge_degree',\n",
       " 'race',\n",
       " 'race',\n",
       " 'race',\n",
       " 'race',\n",
       " 'race',\n",
       " 'race',\n",
       " 'sex',\n",
       " 'sex']"
      ]
     },
     "execution_count": 34,
     "metadata": {},
     "output_type": "execute_result"
    }
   ],
   "source": []
  },
  {
   "cell_type": "code",
   "execution_count": 40,
   "metadata": {},
   "outputs": [
    {
     "data": {
      "text/plain": [
       "['race', 'c_charge_degree', 'sex', 'decile_score', 'priors_count', 'age']"
      ]
     },
     "execution_count": 40,
     "metadata": {},
     "output_type": "execute_result"
    }
   ],
   "source": [
    "c = list(dict.fromkeys(c))\n",
    "c"
   ]
  },
  {
   "cell_type": "code",
   "execution_count": 27,
   "metadata": {},
   "outputs": [
    {
     "data": {
      "text/plain": [
       "['age', 'c_charge_degree', 'race', 'sex', 'priors_count', 'decile_score']"
      ]
     },
     "execution_count": 27,
     "metadata": {},
     "output_type": "execute_result"
    }
   ],
   "source": []
  },
  {
   "cell_type": "code",
   "execution_count": 41,
   "metadata": {},
   "outputs": [
    {
     "name": "stdout",
     "output_type": "stream",
     "text": [
      "['decile_score']\n",
      "['decile_score']\n",
      "['age']\n",
      "['age']\n",
      "['age']\n",
      "['age']\n",
      "['priors_count']\n",
      "['priors_count']\n",
      "['priors_count']\n",
      "['c_charge_degree']\n",
      "['c_charge_degree']\n",
      "['race']\n",
      "['race']\n",
      "['race']\n",
      "['race']\n",
      "['race']\n",
      "['race']\n",
      "['sex']\n",
      "['sex']\n"
     ]
    }
   ],
   "source": [
    "done = []\n",
    "for i in df.columns:\n",
    "    val = [i[:i.find(\"[\")]]\n",
    "    done.append(val)\n",
    "    order = temporal[temporal['attribute'] == ]"
   ]
  },
  {
   "cell_type": "code",
   "execution_count": 59,
   "metadata": {},
   "outputs": [
    {
     "data": {
      "text/plain": [
       "1"
      ]
     },
     "execution_count": 59,
     "metadata": {},
     "output_type": "execute_result"
    }
   ],
   "source": [
    "temporal[temporal['attribute'] == 'sex']['order'].iloc[0]"
   ]
  },
  {
   "cell_type": "code",
   "execution_count": 62,
   "metadata": {},
   "outputs": [],
   "source": [
    "dd = dict.fromkeys(df.columns , 1)"
   ]
  },
  {
   "cell_type": "code",
   "execution_count": 65,
   "metadata": {},
   "outputs": [
    {
     "data": {
      "text/plain": [
       "{'age[18_25]': 1,\n",
       " 'age[25_31]': 1,\n",
       " 'age[31_42]': 1,\n",
       " 'age[42_97]': 1,\n",
       " 'c_charge_degree[F]': 1,\n",
       " 'c_charge_degree[M]': 1,\n",
       " 'decile_score[1_4]': 1,\n",
       " 'decile_score[4_11]': 1,\n",
       " 'priors_count[0_1]': 1,\n",
       " 'priors_count[1_4]': 1,\n",
       " 'priors_count[4_39]': 1,\n",
       " 'race[African_American]': 1,\n",
       " 'race[Asian]': 1,\n",
       " 'race[Caucasian]': 1,\n",
       " 'race[Hispanic]': 1,\n",
       " 'race[Native_American]': 1,\n",
       " 'race[Other]': 1,\n",
       " 'sex[Female]': 1,\n",
       " 'sex[Male]': 4}"
      ]
     },
     "execution_count": 65,
     "metadata": {},
     "output_type": "execute_result"
    }
   ],
   "source": [
    "dd"
   ]
  },
  {
   "cell_type": "code",
   "execution_count": 64,
   "metadata": {},
   "outputs": [],
   "source": [
    "dd['sex[Male]'] = 4"
   ]
  },
  {
   "cell_type": "code",
   "execution_count": 11,
   "metadata": {},
   "outputs": [],
   "source": [
    "a = \"race_Native American-Virgin\""
   ]
  },
  {
   "cell_type": "code",
   "execution_count": 21,
   "metadata": {},
   "outputs": [
    {
     "data": {
      "text/plain": [
       "'race_Native_American_Virgin]'"
      ]
     },
     "execution_count": 21,
     "metadata": {},
     "output_type": "execute_result"
    }
   ],
   "source": [
    "a.replace(\" \",\"_\").replace(\"-\",\"_\")+\"]\""
   ]
  },
  {
   "cell_type": "code",
   "execution_count": 14,
   "metadata": {},
   "outputs": [
    {
     "data": {
      "text/plain": [
       "Index(['decile_score_[1_4]', 'decile_score_[4_11]', 'age_[18_25]',\n",
       "       'age_[25_31]', 'age_[31_42]', 'age_[42_97]', 'priors_count_0_1',\n",
       "       'priors_count_1_4', 'priors_count_4_39', 'c_charge_degree_F',\n",
       "       'c_charge_degree_M', 'race_African-American', 'race_Asian',\n",
       "       'race_Caucasian', 'race_Hispanic', 'race_Native American', 'race_Other',\n",
       "       'sex_Female', 'sex_Male'],\n",
       "      dtype='object')"
      ]
     },
     "execution_count": 14,
     "metadata": {},
     "output_type": "execute_result"
    }
   ],
   "source": [
    "df.columns"
   ]
  },
  {
   "cell_type": "code",
   "execution_count": 15,
   "metadata": {},
   "outputs": [],
   "source": [
    "df.columns = [i.replace(\" \",\"_\").replace(\"-\",\"_\") for i in df.columns]"
   ]
  },
  {
   "cell_type": "code",
   "execution_count": 17,
   "metadata": {},
   "outputs": [
    {
     "data": {
      "text/html": [
       "<div>\n",
       "<style scoped>\n",
       "    .dataframe tbody tr th:only-of-type {\n",
       "        vertical-align: middle;\n",
       "    }\n",
       "\n",
       "    .dataframe tbody tr th {\n",
       "        vertical-align: top;\n",
       "    }\n",
       "\n",
       "    .dataframe thead th {\n",
       "        text-align: right;\n",
       "    }\n",
       "</style>\n",
       "<table border=\"1\" class=\"dataframe\">\n",
       "  <thead>\n",
       "    <tr style=\"text-align: right;\">\n",
       "      <th></th>\n",
       "      <th>decile_score_[1_4]</th>\n",
       "      <th>decile_score_[4_11]</th>\n",
       "      <th>age_[18_25]</th>\n",
       "      <th>age_[25_31]</th>\n",
       "      <th>age_[31_42]</th>\n",
       "      <th>age_[42_97]</th>\n",
       "      <th>priors_count_0_1</th>\n",
       "      <th>priors_count_1_4</th>\n",
       "      <th>priors_count_4_39</th>\n",
       "      <th>c_charge_degree_F</th>\n",
       "      <th>c_charge_degree_M</th>\n",
       "      <th>race_African_American</th>\n",
       "      <th>race_Asian</th>\n",
       "      <th>race_Caucasian</th>\n",
       "      <th>race_Hispanic</th>\n",
       "      <th>race_Native_American</th>\n",
       "      <th>race_Other</th>\n",
       "      <th>sex_Female</th>\n",
       "      <th>sex_Male</th>\n",
       "    </tr>\n",
       "  </thead>\n",
       "  <tbody>\n",
       "    <tr>\n",
       "      <th>0</th>\n",
       "      <td>1</td>\n",
       "      <td>0</td>\n",
       "      <td>0</td>\n",
       "      <td>0</td>\n",
       "      <td>0</td>\n",
       "      <td>1</td>\n",
       "      <td>1</td>\n",
       "      <td>0</td>\n",
       "      <td>0</td>\n",
       "      <td>1</td>\n",
       "      <td>0</td>\n",
       "      <td>0</td>\n",
       "      <td>0</td>\n",
       "      <td>0</td>\n",
       "      <td>0</td>\n",
       "      <td>0</td>\n",
       "      <td>1</td>\n",
       "      <td>0</td>\n",
       "      <td>1</td>\n",
       "    </tr>\n",
       "    <tr>\n",
       "      <th>1</th>\n",
       "      <td>1</td>\n",
       "      <td>0</td>\n",
       "      <td>0</td>\n",
       "      <td>0</td>\n",
       "      <td>1</td>\n",
       "      <td>0</td>\n",
       "      <td>1</td>\n",
       "      <td>0</td>\n",
       "      <td>0</td>\n",
       "      <td>1</td>\n",
       "      <td>0</td>\n",
       "      <td>1</td>\n",
       "      <td>0</td>\n",
       "      <td>0</td>\n",
       "      <td>0</td>\n",
       "      <td>0</td>\n",
       "      <td>0</td>\n",
       "      <td>0</td>\n",
       "      <td>1</td>\n",
       "    </tr>\n",
       "    <tr>\n",
       "      <th>2</th>\n",
       "      <td>0</td>\n",
       "      <td>1</td>\n",
       "      <td>1</td>\n",
       "      <td>0</td>\n",
       "      <td>0</td>\n",
       "      <td>0</td>\n",
       "      <td>0</td>\n",
       "      <td>0</td>\n",
       "      <td>1</td>\n",
       "      <td>1</td>\n",
       "      <td>0</td>\n",
       "      <td>1</td>\n",
       "      <td>0</td>\n",
       "      <td>0</td>\n",
       "      <td>0</td>\n",
       "      <td>0</td>\n",
       "      <td>0</td>\n",
       "      <td>0</td>\n",
       "      <td>1</td>\n",
       "    </tr>\n",
       "    <tr>\n",
       "      <th>3</th>\n",
       "      <td>1</td>\n",
       "      <td>0</td>\n",
       "      <td>0</td>\n",
       "      <td>0</td>\n",
       "      <td>0</td>\n",
       "      <td>1</td>\n",
       "      <td>1</td>\n",
       "      <td>0</td>\n",
       "      <td>0</td>\n",
       "      <td>0</td>\n",
       "      <td>1</td>\n",
       "      <td>0</td>\n",
       "      <td>0</td>\n",
       "      <td>0</td>\n",
       "      <td>0</td>\n",
       "      <td>0</td>\n",
       "      <td>1</td>\n",
       "      <td>0</td>\n",
       "      <td>1</td>\n",
       "    </tr>\n",
       "    <tr>\n",
       "      <th>4</th>\n",
       "      <td>0</td>\n",
       "      <td>1</td>\n",
       "      <td>0</td>\n",
       "      <td>0</td>\n",
       "      <td>1</td>\n",
       "      <td>0</td>\n",
       "      <td>0</td>\n",
       "      <td>0</td>\n",
       "      <td>1</td>\n",
       "      <td>1</td>\n",
       "      <td>0</td>\n",
       "      <td>0</td>\n",
       "      <td>0</td>\n",
       "      <td>1</td>\n",
       "      <td>0</td>\n",
       "      <td>0</td>\n",
       "      <td>0</td>\n",
       "      <td>0</td>\n",
       "      <td>1</td>\n",
       "    </tr>\n",
       "  </tbody>\n",
       "</table>\n",
       "</div>"
      ],
      "text/plain": [
       "   decile_score_[1_4]  decile_score_[4_11]  age_[18_25]  age_[25_31]  \\\n",
       "0                   1                    0            0            0   \n",
       "1                   1                    0            0            0   \n",
       "2                   0                    1            1            0   \n",
       "3                   1                    0            0            0   \n",
       "4                   0                    1            0            0   \n",
       "\n",
       "   age_[31_42]  age_[42_97]  priors_count_0_1  priors_count_1_4  \\\n",
       "0            0            1                 1                 0   \n",
       "1            1            0                 1                 0   \n",
       "2            0            0                 0                 0   \n",
       "3            0            1                 1                 0   \n",
       "4            1            0                 0                 0   \n",
       "\n",
       "   priors_count_4_39  c_charge_degree_F  c_charge_degree_M  \\\n",
       "0                  0                  1                  0   \n",
       "1                  0                  1                  0   \n",
       "2                  1                  1                  0   \n",
       "3                  0                  0                  1   \n",
       "4                  1                  1                  0   \n",
       "\n",
       "   race_African_American  race_Asian  race_Caucasian  race_Hispanic  \\\n",
       "0                      0           0               0              0   \n",
       "1                      1           0               0              0   \n",
       "2                      1           0               0              0   \n",
       "3                      0           0               0              0   \n",
       "4                      0           0               1              0   \n",
       "\n",
       "   race_Native_American  race_Other  sex_Female  sex_Male  \n",
       "0                     0           1           0         1  \n",
       "1                     0           0           0         1  \n",
       "2                     0           0           0         1  \n",
       "3                     0           1           0         1  \n",
       "4                     0           0           0         1  "
      ]
     },
     "execution_count": 17,
     "metadata": {},
     "output_type": "execute_result"
    }
   ],
   "source": [
    "df.head()"
   ]
  },
  {
   "cell_type": "code",
   "execution_count": null,
   "metadata": {},
   "outputs": [],
   "source": [
    "d = {}"
   ]
  },
  {
   "cell_type": "code",
   "execution_count": null,
   "metadata": {},
   "outputs": [],
   "source": []
  },
  {
   "cell_type": "code",
   "execution_count": null,
   "metadata": {},
   "outputs": [],
   "source": []
  },
  {
   "cell_type": "code",
   "execution_count": null,
   "metadata": {},
   "outputs": [],
   "source": []
  },
  {
   "cell_type": "code",
   "execution_count": null,
   "metadata": {},
   "outputs": [],
   "source": []
  },
  {
   "cell_type": "code",
   "execution_count": null,
   "metadata": {},
   "outputs": [],
   "source": []
  },
  {
   "cell_type": "code",
   "execution_count": null,
   "metadata": {},
   "outputs": [],
   "source": [
    "'Bayesian'\n"
   ]
  }
 ],
 "metadata": {
  "kernelspec": {
   "display_name": "Python 3",
   "language": "python",
   "name": "python3"
  },
  "language_info": {
   "codemirror_mode": {
    "name": "ipython",
    "version": 3
   },
   "file_extension": ".py",
   "mimetype": "text/x-python",
   "name": "python",
   "nbconvert_exporter": "python",
   "pygments_lexer": "ipython3",
   "version": "3.5.2"
  }
 },
 "nbformat": 4,
 "nbformat_minor": 2
}
