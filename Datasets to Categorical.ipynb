{
 "cells": [
  {
   "cell_type": "code",
   "execution_count": 1,
   "metadata": {},
   "outputs": [],
   "source": [
    "import pandas as pd\n",
    "import numpy as np"
   ]
  },
  {
   "cell_type": "code",
   "execution_count": 13,
   "metadata": {},
   "outputs": [],
   "source": [
    "from sklearn import preprocessing"
   ]
  },
  {
   "cell_type": "code",
   "execution_count": 88,
   "metadata": {},
   "outputs": [],
   "source": [
    "df = pd.read_csv(\"UCBAdd.csv\",sep=\";\")"
   ]
  },
  {
   "cell_type": "code",
   "execution_count": 89,
   "metadata": {
    "scrolled": true
   },
   "outputs": [
    {
     "data": {
      "text/html": [
       "<div>\n",
       "<style scoped>\n",
       "    .dataframe tbody tr th:only-of-type {\n",
       "        vertical-align: middle;\n",
       "    }\n",
       "\n",
       "    .dataframe tbody tr th {\n",
       "        vertical-align: top;\n",
       "    }\n",
       "\n",
       "    .dataframe thead th {\n",
       "        text-align: right;\n",
       "    }\n",
       "</style>\n",
       "<table border=\"1\" class=\"dataframe\">\n",
       "  <thead>\n",
       "    <tr style=\"text-align: right;\">\n",
       "      <th></th>\n",
       "      <th>Admit</th>\n",
       "      <th>Gender</th>\n",
       "      <th>Dept</th>\n",
       "      <th>Freq</th>\n",
       "    </tr>\n",
       "  </thead>\n",
       "  <tbody>\n",
       "    <tr>\n",
       "      <th>0</th>\n",
       "      <td>Admitted</td>\n",
       "      <td>Male</td>\n",
       "      <td>A</td>\n",
       "      <td>512</td>\n",
       "    </tr>\n",
       "    <tr>\n",
       "      <th>1</th>\n",
       "      <td>Rejected</td>\n",
       "      <td>Male</td>\n",
       "      <td>A</td>\n",
       "      <td>313</td>\n",
       "    </tr>\n",
       "    <tr>\n",
       "      <th>2</th>\n",
       "      <td>Admitted</td>\n",
       "      <td>Female</td>\n",
       "      <td>A</td>\n",
       "      <td>89</td>\n",
       "    </tr>\n",
       "    <tr>\n",
       "      <th>3</th>\n",
       "      <td>Rejected</td>\n",
       "      <td>Female</td>\n",
       "      <td>A</td>\n",
       "      <td>19</td>\n",
       "    </tr>\n",
       "    <tr>\n",
       "      <th>4</th>\n",
       "      <td>Admitted</td>\n",
       "      <td>Male</td>\n",
       "      <td>B</td>\n",
       "      <td>353</td>\n",
       "    </tr>\n",
       "  </tbody>\n",
       "</table>\n",
       "</div>"
      ],
      "text/plain": [
       "      Admit  Gender Dept  Freq\n",
       "0  Admitted    Male    A   512\n",
       "1  Rejected    Male    A   313\n",
       "2  Admitted  Female    A    89\n",
       "3  Rejected  Female    A    19\n",
       "4  Admitted    Male    B   353"
      ]
     },
     "execution_count": 89,
     "metadata": {},
     "output_type": "execute_result"
    }
   ],
   "source": [
    "df.head()"
   ]
  },
  {
   "cell_type": "code",
   "execution_count": 90,
   "metadata": {},
   "outputs": [],
   "source": [
    "df = df.drop([\"Freq\"],axis=1)"
   ]
  },
  {
   "cell_type": "code",
   "execution_count": 91,
   "metadata": {},
   "outputs": [],
   "source": [
    "values = df.values"
   ]
  },
  {
   "cell_type": "code",
   "execution_count": 127,
   "metadata": {},
   "outputs": [],
   "source": [
    "first = np.full((525,3),values[0])"
   ]
  },
  {
   "cell_type": "code",
   "execution_count": 107,
   "metadata": {},
   "outputs": [],
   "source": [
    "s = np.full((313,3),values[1])"
   ]
  },
  {
   "cell_type": "code",
   "execution_count": 128,
   "metadata": {},
   "outputs": [
    {
     "data": {
      "text/plain": [
       "(525, 3)"
      ]
     },
     "execution_count": 128,
     "metadata": {},
     "output_type": "execute_result"
    }
   ],
   "source": [
    "first.shape"
   ]
  },
  {
   "cell_type": "code",
   "execution_count": 129,
   "metadata": {},
   "outputs": [],
   "source": [
    "first = pd.DataFrame(first,columns=df.columns)"
   ]
  },
  {
   "cell_type": "code",
   "execution_count": 108,
   "metadata": {},
   "outputs": [],
   "source": [
    "s = pd.DataFrame(s,columns=df.columns)"
   ]
  },
  {
   "cell_type": "code",
   "execution_count": 130,
   "metadata": {},
   "outputs": [
    {
     "data": {
      "text/html": [
       "<div>\n",
       "<style scoped>\n",
       "    .dataframe tbody tr th:only-of-type {\n",
       "        vertical-align: middle;\n",
       "    }\n",
       "\n",
       "    .dataframe tbody tr th {\n",
       "        vertical-align: top;\n",
       "    }\n",
       "\n",
       "    .dataframe thead th {\n",
       "        text-align: right;\n",
       "    }\n",
       "</style>\n",
       "<table border=\"1\" class=\"dataframe\">\n",
       "  <thead>\n",
       "    <tr style=\"text-align: right;\">\n",
       "      <th></th>\n",
       "      <th>Admit</th>\n",
       "      <th>Gender</th>\n",
       "      <th>Dept</th>\n",
       "    </tr>\n",
       "  </thead>\n",
       "  <tbody>\n",
       "    <tr>\n",
       "      <th>0</th>\n",
       "      <td>Admitted</td>\n",
       "      <td>Male</td>\n",
       "      <td>A</td>\n",
       "    </tr>\n",
       "    <tr>\n",
       "      <th>1</th>\n",
       "      <td>Admitted</td>\n",
       "      <td>Male</td>\n",
       "      <td>A</td>\n",
       "    </tr>\n",
       "    <tr>\n",
       "      <th>2</th>\n",
       "      <td>Admitted</td>\n",
       "      <td>Male</td>\n",
       "      <td>A</td>\n",
       "    </tr>\n",
       "    <tr>\n",
       "      <th>3</th>\n",
       "      <td>Admitted</td>\n",
       "      <td>Male</td>\n",
       "      <td>A</td>\n",
       "    </tr>\n",
       "    <tr>\n",
       "      <th>4</th>\n",
       "      <td>Admitted</td>\n",
       "      <td>Male</td>\n",
       "      <td>A</td>\n",
       "    </tr>\n",
       "  </tbody>\n",
       "</table>\n",
       "</div>"
      ],
      "text/plain": [
       "      Admit Gender Dept\n",
       "0  Admitted   Male    A\n",
       "1  Admitted   Male    A\n",
       "2  Admitted   Male    A\n",
       "3  Admitted   Male    A\n",
       "4  Admitted   Male    A"
      ]
     },
     "execution_count": 130,
     "metadata": {},
     "output_type": "execute_result"
    }
   ],
   "source": [
    "first.head()"
   ]
  },
  {
   "cell_type": "code",
   "execution_count": 112,
   "metadata": {},
   "outputs": [
    {
     "data": {
      "text/plain": [
       "(838, 3)"
      ]
     },
     "execution_count": 112,
     "metadata": {},
     "output_type": "execute_result"
    }
   ],
   "source": [
    " a= pd.concat([first,s])\n",
    "a.shape"
   ]
  },
  {
   "cell_type": "code",
   "execution_count": 133,
   "metadata": {},
   "outputs": [],
   "source": [
    "a = [512,313,89,19,353,207,17,8,120,205,202,391,138,279,131,244,53,138,94,299,22,351,24,317]"
   ]
  },
  {
   "cell_type": "code",
   "execution_count": 139,
   "metadata": {},
   "outputs": [
    {
     "name": "stdout",
     "output_type": "stream",
     "text": [
      "313 1\n",
      "['Rejected' 'Male' 'A']\n",
      "89 2\n",
      "['Admitted' 'Female' 'A']\n",
      "19 3\n",
      "['Rejected' 'Female' 'A']\n",
      "353 4\n",
      "['Admitted' 'Male' 'B']\n",
      "207 5\n",
      "['Rejected' 'Male' 'B']\n",
      "17 6\n",
      "['Admitted' 'Female' 'B']\n",
      "8 7\n",
      "['Rejected' 'Female' 'B']\n",
      "120 8\n",
      "['Admitted' 'Male' 'C']\n",
      "205 9\n",
      "['Rejected' 'Male' 'C']\n",
      "202 10\n",
      "['Admitted' 'Female' 'C']\n",
      "391 11\n",
      "['Rejected' 'Female' 'C']\n",
      "138 12\n",
      "['Admitted' 'Male' 'D']\n",
      "279 13\n",
      "['Rejected' 'Male' 'D']\n",
      "131 14\n",
      "['Admitted' 'Female' 'D']\n",
      "244 15\n",
      "['Rejected' 'Female' 'D']\n",
      "53 16\n",
      "['Admitted' 'Male' 'E']\n",
      "138 17\n",
      "['Rejected' 'Male' 'E']\n",
      "94 18\n",
      "['Admitted' 'Female' 'E']\n",
      "299 19\n",
      "['Rejected' 'Female' 'E']\n",
      "22 20\n",
      "['Admitted' 'Male' 'F']\n",
      "351 21\n",
      "['Rejected' 'Male' 'F']\n",
      "24 22\n",
      "['Admitted' 'Female' 'F']\n",
      "317 23\n",
      "['Rejected' 'Female' 'F']\n"
     ]
    }
   ],
   "source": [
    "for i in range(len(a)):\n",
    "    print(a[i],i+1)\n",
    "    print(values[i+1])\n",
    "    temp = np.full((a[i],3),values[i])\n",
    "    temp = pd.DataFrame(temp,columns=df.columns)\n",
    "    datafr = pd.concat([datafr,temp])"
   ]
  },
  {
   "cell_type": "code",
   "execution_count": 140,
   "metadata": {},
   "outputs": [
    {
     "data": {
      "text/plain": [
       "(4856, 3)"
      ]
     },
     "execution_count": 140,
     "metadata": {},
     "output_type": "execute_result"
    }
   ],
   "source": [
    "datafr.shape"
   ]
  },
  {
   "cell_type": "code",
   "execution_count": 141,
   "metadata": {},
   "outputs": [],
   "source": [
    "datafr.to_csv(\"UCBAdmissionsComplete.csv\",sep=\";\")"
   ]
  },
  {
   "cell_type": "code",
   "execution_count": 142,
   "metadata": {},
   "outputs": [],
   "source": [
    "df = datafr"
   ]
  },
  {
   "cell_type": "code",
   "execution_count": null,
   "metadata": {},
   "outputs": [],
   "source": []
  },
  {
   "cell_type": "code",
   "execution_count": null,
   "metadata": {},
   "outputs": [],
   "source": []
  },
  {
   "cell_type": "code",
   "execution_count": 143,
   "metadata": {},
   "outputs": [
    {
     "data": {
      "text/plain": [
       "['Admit', 'Gender', 'Dept']"
      ]
     },
     "execution_count": 143,
     "metadata": {},
     "output_type": "execute_result"
    }
   ],
   "source": [
    "categorical = df.select_dtypes(include=['object']).columns.tolist()\n",
    "categorical"
   ]
  },
  {
   "cell_type": "code",
   "execution_count": 144,
   "metadata": {},
   "outputs": [
    {
     "name": "stdout",
     "output_type": "stream",
     "text": [
      "Feature Admit\n",
      "mapping {'Admitted': 0, 'Rejected': 1}\n",
      "Feature Gender\n",
      "mapping {'Female': 0, 'Male': 1}\n",
      "Feature Dept\n",
      "mapping {'E': 4, 'B': 1, 'C': 2, 'A': 0, 'D': 3, 'F': 5}\n"
     ]
    }
   ],
   "source": [
    "#Deep copy the original data\n",
    "data_encoded = df.copy(deep=True)\n",
    "#Use Scikit-learn label encoding to encode character data\n",
    "lab_enc = preprocessing.LabelEncoder()\n",
    "for col in categorical:\n",
    "        data_encoded[col] = lab_enc.fit_transform(df[col])\n",
    "        le_name_mapping = dict(zip(lab_enc.classes_, lab_enc.transform(lab_enc.classes_)))\n",
    "        print('Feature', col)\n",
    "        print('mapping', le_name_mapping)"
   ]
  },
  {
   "cell_type": "code",
   "execution_count": 145,
   "metadata": {},
   "outputs": [
    {
     "name": "stdout",
     "output_type": "stream",
     "text": [
      "['Admit', 'Gender', 'Dept']\n"
     ]
    }
   ],
   "source": [
    "# Create new dataframe with dummy features\n",
    "categorical_feats = df.select_dtypes(include=['object']).columns.tolist()\n",
    "print(categorical_feats)\n"
   ]
  },
  {
   "cell_type": "code",
   "execution_count": 146,
   "metadata": {},
   "outputs": [],
   "source": [
    "df = pd.get_dummies(df, columns= categorical_feats)"
   ]
  },
  {
   "cell_type": "code",
   "execution_count": 147,
   "metadata": {},
   "outputs": [
    {
     "data": {
      "text/html": [
       "<div>\n",
       "<style scoped>\n",
       "    .dataframe tbody tr th:only-of-type {\n",
       "        vertical-align: middle;\n",
       "    }\n",
       "\n",
       "    .dataframe tbody tr th {\n",
       "        vertical-align: top;\n",
       "    }\n",
       "\n",
       "    .dataframe thead th {\n",
       "        text-align: right;\n",
       "    }\n",
       "</style>\n",
       "<table border=\"1\" class=\"dataframe\">\n",
       "  <thead>\n",
       "    <tr style=\"text-align: right;\">\n",
       "      <th></th>\n",
       "      <th>Admit_Admitted</th>\n",
       "      <th>Admit_Rejected</th>\n",
       "      <th>Gender_Female</th>\n",
       "      <th>Gender_Male</th>\n",
       "      <th>Dept_A</th>\n",
       "      <th>Dept_B</th>\n",
       "      <th>Dept_C</th>\n",
       "      <th>Dept_D</th>\n",
       "      <th>Dept_E</th>\n",
       "      <th>Dept_F</th>\n",
       "    </tr>\n",
       "  </thead>\n",
       "  <tbody>\n",
       "    <tr>\n",
       "      <th>0</th>\n",
       "      <td>1</td>\n",
       "      <td>0</td>\n",
       "      <td>0</td>\n",
       "      <td>1</td>\n",
       "      <td>1</td>\n",
       "      <td>0</td>\n",
       "      <td>0</td>\n",
       "      <td>0</td>\n",
       "      <td>0</td>\n",
       "      <td>0</td>\n",
       "    </tr>\n",
       "    <tr>\n",
       "      <th>1</th>\n",
       "      <td>1</td>\n",
       "      <td>0</td>\n",
       "      <td>0</td>\n",
       "      <td>1</td>\n",
       "      <td>1</td>\n",
       "      <td>0</td>\n",
       "      <td>0</td>\n",
       "      <td>0</td>\n",
       "      <td>0</td>\n",
       "      <td>0</td>\n",
       "    </tr>\n",
       "    <tr>\n",
       "      <th>2</th>\n",
       "      <td>1</td>\n",
       "      <td>0</td>\n",
       "      <td>0</td>\n",
       "      <td>1</td>\n",
       "      <td>1</td>\n",
       "      <td>0</td>\n",
       "      <td>0</td>\n",
       "      <td>0</td>\n",
       "      <td>0</td>\n",
       "      <td>0</td>\n",
       "    </tr>\n",
       "    <tr>\n",
       "      <th>3</th>\n",
       "      <td>1</td>\n",
       "      <td>0</td>\n",
       "      <td>0</td>\n",
       "      <td>1</td>\n",
       "      <td>1</td>\n",
       "      <td>0</td>\n",
       "      <td>0</td>\n",
       "      <td>0</td>\n",
       "      <td>0</td>\n",
       "      <td>0</td>\n",
       "    </tr>\n",
       "    <tr>\n",
       "      <th>4</th>\n",
       "      <td>1</td>\n",
       "      <td>0</td>\n",
       "      <td>0</td>\n",
       "      <td>1</td>\n",
       "      <td>1</td>\n",
       "      <td>0</td>\n",
       "      <td>0</td>\n",
       "      <td>0</td>\n",
       "      <td>0</td>\n",
       "      <td>0</td>\n",
       "    </tr>\n",
       "  </tbody>\n",
       "</table>\n",
       "</div>"
      ],
      "text/plain": [
       "   Admit_Admitted  Admit_Rejected  Gender_Female  Gender_Male  Dept_A  Dept_B  \\\n",
       "0               1               0              0            1       1       0   \n",
       "1               1               0              0            1       1       0   \n",
       "2               1               0              0            1       1       0   \n",
       "3               1               0              0            1       1       0   \n",
       "4               1               0              0            1       1       0   \n",
       "\n",
       "   Dept_C  Dept_D  Dept_E  Dept_F  \n",
       "0       0       0       0       0  \n",
       "1       0       0       0       0  \n",
       "2       0       0       0       0  \n",
       "3       0       0       0       0  \n",
       "4       0       0       0       0  "
      ]
     },
     "execution_count": 147,
     "metadata": {},
     "output_type": "execute_result"
    }
   ],
   "source": [
    "df.head()"
   ]
  },
  {
   "cell_type": "code",
   "execution_count": 22,
   "metadata": {},
   "outputs": [
    {
     "data": {
      "text/html": [
       "<div>\n",
       "<style scoped>\n",
       "    .dataframe tbody tr th:only-of-type {\n",
       "        vertical-align: middle;\n",
       "    }\n",
       "\n",
       "    .dataframe tbody tr th {\n",
       "        vertical-align: top;\n",
       "    }\n",
       "\n",
       "    .dataframe thead th {\n",
       "        text-align: right;\n",
       "    }\n",
       "</style>\n",
       "<table border=\"1\" class=\"dataframe\">\n",
       "  <thead>\n",
       "    <tr style=\"text-align: right;\">\n",
       "      <th></th>\n",
       "      <th>Age</th>\n",
       "      <th>Expenditures</th>\n",
       "      <th>Gender_Male</th>\n",
       "      <th>Gender_Female</th>\n",
       "      <th>Age Cohort_0 to 5</th>\n",
       "      <th>Age Cohort_13 to 17</th>\n",
       "      <th>Age Cohort_18 to 21</th>\n",
       "      <th>Age Cohort_22 to 50</th>\n",
       "      <th>Age Cohort_51+</th>\n",
       "      <th>Age Cohort_6 to 12</th>\n",
       "      <th>Ethnicity_American Indian</th>\n",
       "      <th>Ethnicity_Asian</th>\n",
       "      <th>Ethnicity_Black</th>\n",
       "      <th>Ethnicity_Hispanic</th>\n",
       "      <th>Ethnicity_Multi Race</th>\n",
       "      <th>Ethnicity_Native Hawaiian</th>\n",
       "      <th>Ethnicity_Other</th>\n",
       "      <th>Ethnicity_White not Hispanic</th>\n",
       "    </tr>\n",
       "  </thead>\n",
       "  <tbody>\n",
       "    <tr>\n",
       "      <th>count</th>\n",
       "      <td>1000.000000</td>\n",
       "      <td>1000.000000</td>\n",
       "      <td>1000.000000</td>\n",
       "      <td>1000.000000</td>\n",
       "      <td>1000.000000</td>\n",
       "      <td>1000.000000</td>\n",
       "      <td>1000.000000</td>\n",
       "      <td>1000.000000</td>\n",
       "      <td>1000.000000</td>\n",
       "      <td>1000.000000</td>\n",
       "      <td>1000.000000</td>\n",
       "      <td>1000.000000</td>\n",
       "      <td>1000.000000</td>\n",
       "      <td>1000.000000</td>\n",
       "      <td>1000.000000</td>\n",
       "      <td>1000.000000</td>\n",
       "      <td>1000.000000</td>\n",
       "      <td>1000.000000</td>\n",
       "    </tr>\n",
       "    <tr>\n",
       "      <th>mean</th>\n",
       "      <td>22.800000</td>\n",
       "      <td>18065.786000</td>\n",
       "      <td>0.497000</td>\n",
       "      <td>0.503000</td>\n",
       "      <td>0.082000</td>\n",
       "      <td>0.212000</td>\n",
       "      <td>0.199000</td>\n",
       "      <td>0.226000</td>\n",
       "      <td>0.106000</td>\n",
       "      <td>0.175000</td>\n",
       "      <td>0.004000</td>\n",
       "      <td>0.129000</td>\n",
       "      <td>0.059000</td>\n",
       "      <td>0.376000</td>\n",
       "      <td>0.026000</td>\n",
       "      <td>0.003000</td>\n",
       "      <td>0.002000</td>\n",
       "      <td>0.401000</td>\n",
       "    </tr>\n",
       "    <tr>\n",
       "      <th>std</th>\n",
       "      <td>18.462038</td>\n",
       "      <td>19542.830884</td>\n",
       "      <td>0.500241</td>\n",
       "      <td>0.500241</td>\n",
       "      <td>0.274502</td>\n",
       "      <td>0.408929</td>\n",
       "      <td>0.399448</td>\n",
       "      <td>0.418448</td>\n",
       "      <td>0.307992</td>\n",
       "      <td>0.380157</td>\n",
       "      <td>0.063151</td>\n",
       "      <td>0.335368</td>\n",
       "      <td>0.235743</td>\n",
       "      <td>0.484622</td>\n",
       "      <td>0.159215</td>\n",
       "      <td>0.054717</td>\n",
       "      <td>0.044699</td>\n",
       "      <td>0.490346</td>\n",
       "    </tr>\n",
       "    <tr>\n",
       "      <th>min</th>\n",
       "      <td>0.000000</td>\n",
       "      <td>222.000000</td>\n",
       "      <td>0.000000</td>\n",
       "      <td>0.000000</td>\n",
       "      <td>0.000000</td>\n",
       "      <td>0.000000</td>\n",
       "      <td>0.000000</td>\n",
       "      <td>0.000000</td>\n",
       "      <td>0.000000</td>\n",
       "      <td>0.000000</td>\n",
       "      <td>0.000000</td>\n",
       "      <td>0.000000</td>\n",
       "      <td>0.000000</td>\n",
       "      <td>0.000000</td>\n",
       "      <td>0.000000</td>\n",
       "      <td>0.000000</td>\n",
       "      <td>0.000000</td>\n",
       "      <td>0.000000</td>\n",
       "    </tr>\n",
       "    <tr>\n",
       "      <th>25%</th>\n",
       "      <td>12.000000</td>\n",
       "      <td>2898.750000</td>\n",
       "      <td>0.000000</td>\n",
       "      <td>0.000000</td>\n",
       "      <td>0.000000</td>\n",
       "      <td>0.000000</td>\n",
       "      <td>0.000000</td>\n",
       "      <td>0.000000</td>\n",
       "      <td>0.000000</td>\n",
       "      <td>0.000000</td>\n",
       "      <td>0.000000</td>\n",
       "      <td>0.000000</td>\n",
       "      <td>0.000000</td>\n",
       "      <td>0.000000</td>\n",
       "      <td>0.000000</td>\n",
       "      <td>0.000000</td>\n",
       "      <td>0.000000</td>\n",
       "      <td>0.000000</td>\n",
       "    </tr>\n",
       "    <tr>\n",
       "      <th>50%</th>\n",
       "      <td>18.000000</td>\n",
       "      <td>7026.000000</td>\n",
       "      <td>0.000000</td>\n",
       "      <td>1.000000</td>\n",
       "      <td>0.000000</td>\n",
       "      <td>0.000000</td>\n",
       "      <td>0.000000</td>\n",
       "      <td>0.000000</td>\n",
       "      <td>0.000000</td>\n",
       "      <td>0.000000</td>\n",
       "      <td>0.000000</td>\n",
       "      <td>0.000000</td>\n",
       "      <td>0.000000</td>\n",
       "      <td>0.000000</td>\n",
       "      <td>0.000000</td>\n",
       "      <td>0.000000</td>\n",
       "      <td>0.000000</td>\n",
       "      <td>0.000000</td>\n",
       "    </tr>\n",
       "    <tr>\n",
       "      <th>75%</th>\n",
       "      <td>26.000000</td>\n",
       "      <td>37712.750000</td>\n",
       "      <td>1.000000</td>\n",
       "      <td>1.000000</td>\n",
       "      <td>0.000000</td>\n",
       "      <td>0.000000</td>\n",
       "      <td>0.000000</td>\n",
       "      <td>0.000000</td>\n",
       "      <td>0.000000</td>\n",
       "      <td>0.000000</td>\n",
       "      <td>0.000000</td>\n",
       "      <td>0.000000</td>\n",
       "      <td>0.000000</td>\n",
       "      <td>1.000000</td>\n",
       "      <td>0.000000</td>\n",
       "      <td>0.000000</td>\n",
       "      <td>0.000000</td>\n",
       "      <td>1.000000</td>\n",
       "    </tr>\n",
       "    <tr>\n",
       "      <th>max</th>\n",
       "      <td>95.000000</td>\n",
       "      <td>75098.000000</td>\n",
       "      <td>1.000000</td>\n",
       "      <td>1.000000</td>\n",
       "      <td>1.000000</td>\n",
       "      <td>1.000000</td>\n",
       "      <td>1.000000</td>\n",
       "      <td>1.000000</td>\n",
       "      <td>1.000000</td>\n",
       "      <td>1.000000</td>\n",
       "      <td>1.000000</td>\n",
       "      <td>1.000000</td>\n",
       "      <td>1.000000</td>\n",
       "      <td>1.000000</td>\n",
       "      <td>1.000000</td>\n",
       "      <td>1.000000</td>\n",
       "      <td>1.000000</td>\n",
       "      <td>1.000000</td>\n",
       "    </tr>\n",
       "  </tbody>\n",
       "</table>\n",
       "</div>"
      ],
      "text/plain": [
       "               Age  Expenditures  Gender_Male  Gender_Female  \\\n",
       "count  1000.000000   1000.000000  1000.000000    1000.000000   \n",
       "mean     22.800000  18065.786000     0.497000       0.503000   \n",
       "std      18.462038  19542.830884     0.500241       0.500241   \n",
       "min       0.000000    222.000000     0.000000       0.000000   \n",
       "25%      12.000000   2898.750000     0.000000       0.000000   \n",
       "50%      18.000000   7026.000000     0.000000       1.000000   \n",
       "75%      26.000000  37712.750000     1.000000       1.000000   \n",
       "max      95.000000  75098.000000     1.000000       1.000000   \n",
       "\n",
       "       Age Cohort_0 to 5  Age Cohort_13 to 17  Age Cohort_18 to 21  \\\n",
       "count        1000.000000          1000.000000          1000.000000   \n",
       "mean            0.082000             0.212000             0.199000   \n",
       "std             0.274502             0.408929             0.399448   \n",
       "min             0.000000             0.000000             0.000000   \n",
       "25%             0.000000             0.000000             0.000000   \n",
       "50%             0.000000             0.000000             0.000000   \n",
       "75%             0.000000             0.000000             0.000000   \n",
       "max             1.000000             1.000000             1.000000   \n",
       "\n",
       "       Age Cohort_22 to 50  Age Cohort_51+  Age Cohort_6 to 12  \\\n",
       "count          1000.000000     1000.000000         1000.000000   \n",
       "mean              0.226000        0.106000            0.175000   \n",
       "std               0.418448        0.307992            0.380157   \n",
       "min               0.000000        0.000000            0.000000   \n",
       "25%               0.000000        0.000000            0.000000   \n",
       "50%               0.000000        0.000000            0.000000   \n",
       "75%               0.000000        0.000000            0.000000   \n",
       "max               1.000000        1.000000            1.000000   \n",
       "\n",
       "       Ethnicity_American Indian  Ethnicity_Asian  Ethnicity_Black  \\\n",
       "count                1000.000000      1000.000000      1000.000000   \n",
       "mean                    0.004000         0.129000         0.059000   \n",
       "std                     0.063151         0.335368         0.235743   \n",
       "min                     0.000000         0.000000         0.000000   \n",
       "25%                     0.000000         0.000000         0.000000   \n",
       "50%                     0.000000         0.000000         0.000000   \n",
       "75%                     0.000000         0.000000         0.000000   \n",
       "max                     1.000000         1.000000         1.000000   \n",
       "\n",
       "       Ethnicity_Hispanic  Ethnicity_Multi Race  Ethnicity_Native Hawaiian  \\\n",
       "count         1000.000000           1000.000000                1000.000000   \n",
       "mean             0.376000              0.026000                   0.003000   \n",
       "std              0.484622              0.159215                   0.054717   \n",
       "min              0.000000              0.000000                   0.000000   \n",
       "25%              0.000000              0.000000                   0.000000   \n",
       "50%              0.000000              0.000000                   0.000000   \n",
       "75%              1.000000              0.000000                   0.000000   \n",
       "max              1.000000              1.000000                   1.000000   \n",
       "\n",
       "       Ethnicity_Other  Ethnicity_White not Hispanic  \n",
       "count      1000.000000                   1000.000000  \n",
       "mean          0.002000                      0.401000  \n",
       "std           0.044699                      0.490346  \n",
       "min           0.000000                      0.000000  \n",
       "25%           0.000000                      0.000000  \n",
       "50%           0.000000                      0.000000  \n",
       "75%           0.000000                      1.000000  \n",
       "max           1.000000                      1.000000  "
      ]
     },
     "execution_count": 22,
     "metadata": {},
     "output_type": "execute_result"
    }
   ],
   "source": [
    "df.describe()"
   ]
  },
  {
   "cell_type": "code",
   "execution_count": 148,
   "metadata": {},
   "outputs": [],
   "source": [
    "df.to_csv(\"CategoricalUCBAdmissions.csv\",sep=\";\")"
   ]
  },
  {
   "cell_type": "code",
   "execution_count": null,
   "metadata": {},
   "outputs": [],
   "source": []
  }
 ],
 "metadata": {
  "kernelspec": {
   "display_name": "Python 3",
   "language": "python",
   "name": "python3"
  },
  "language_info": {
   "codemirror_mode": {
    "name": "ipython",
    "version": 3
   },
   "file_extension": ".py",
   "mimetype": "text/x-python",
   "name": "python",
   "nbconvert_exporter": "python",
   "pygments_lexer": "ipython3",
   "version": "3.5.2"
  }
 },
 "nbformat": 4,
 "nbformat_minor": 2
}
